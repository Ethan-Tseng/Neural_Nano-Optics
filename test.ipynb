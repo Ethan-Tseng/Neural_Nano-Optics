{
 "cells": [
  {
   "cell_type": "markdown",
   "metadata": {},
   "source": [
    "## Inference Code for 'Neural Nano-Optics for High-quality Thin Lens Imaging'\n",
    "\n",
    "#### This notebook can be used to produce the experimental reconstructions shown in the manuscript and in the supplemental information."
   ]
  },
  {
   "cell_type": "code",
   "execution_count": null,
   "metadata": {},
   "outputs": [],
   "source": [
    "import tensorflow as tf\n",
    "import tensorflow_addons as tfa\n",
    "import numpy as np\n",
    "from networks.select import select_G\n",
    "from args import parse_args\n",
    "import metasurface.solver as solver\n",
    "import metasurface.conv as conv\n",
    "import matplotlib.pyplot as plt\n",
    "import sys"
   ]
  },
  {
   "cell_type": "code",
   "execution_count": null,
   "metadata": {},
   "outputs": [],
   "source": [
    "# Set up the arguments for real inference\n",
    "sys.argv=['','--train_dir','.',\\\n",
    "             '--test_dir' ,'.',\\\n",
    "             '--save_dir' ,'.',\\\n",
    "             '--ckpt_dir' ,'experimental/ckpt/',\\\n",
    "             '--real_psf' ,'./experimental/data/psf/psf.npy',\\\n",
    "             '--psf_mode' ,'REAL_PSF',\\\n",
    "             '--conv_mode','REAL',\\\n",
    "             '--conv'     ,'full_size']\n",
    "args = parse_args()"
   ]
  },
  {
   "cell_type": "code",
   "execution_count": null,
   "metadata": {},
   "outputs": [],
   "source": [
    "# Initialize and restore deconvolution method\n",
    "params = solver.initialize_params(args)\n",
    "params['conv_fn'] = conv.convolution_tf(params, args)\n",
    "params['deconv_fn'] = conv.deconvolution_tf(params, args)\n",
    "\n",
    "snr = tf.Variable(args.snr_init, dtype=tf.float32)\n",
    "G = select_G(params, args)\n",
    "checkpoint = tf.train.Checkpoint(G=G, snr=snr)\n",
    "\n",
    "status = checkpoint.restore(tf.train.latest_checkpoint(args.ckpt_dir, latest_filename=None))\n",
    "status.expect_partial()"
   ]
  },
  {
   "cell_type": "markdown",
   "metadata": {},
   "source": [
    "# Perform deconvolution"
   ]
  },
  {
   "cell_type": "code",
   "execution_count": null,
   "metadata": {},
   "outputs": [],
   "source": [
    "# Check that the dimensions agree with experimental captures\n",
    "assert(params['image_width'] == 720)\n",
    "assert(params['psf_width'] == 360)\n",
    "assert(params['network_width'] == 1080)"
   ]
  },
  {
   "cell_type": "code",
   "execution_count": null,
   "metadata": {},
   "outputs": [],
   "source": [
    "# Load in experimentally measured PSFs\n",
    "psf = (np.load('./experimental/data/psf/psf.npy'))\n",
    "psf = tf.constant(psf)\n",
    "psf = tf.image.resize_with_crop_or_pad(psf, params['psf_width'], params['psf_width'])\n",
    "psf = psf / tf.reduce_sum(psf, axis=(1,2), keepdims=True)"
   ]
  },
  {
   "cell_type": "code",
   "execution_count": null,
   "metadata": {},
   "outputs": [],
   "source": [
    "def reconstruct(img_name, psf, snr, G):\n",
    "    img = np.load(img_name)\n",
    "    _, G_img, _ = params['deconv_fn'](img, psf, snr, G, training=False)\n",
    "    G_img_ = G_img.numpy()[0,:,:,:]\n",
    "\n",
    "    # Vignette Correct\n",
    "    vig_factor = np.load('experimental/data/vignette_factor.npy')[0,:,:,:]\n",
    "    G_img_ = G_img_ * vig_factor\n",
    "    \n",
    "    # Gain\n",
    "    G_img_ = G_img_ * 1.2\n",
    "    G_img_[G_img_ > 1.0] = 1.0\n",
    "\n",
    "    # Contrast Normalization\n",
    "    minval = np.percentile(G_img_, 5)\n",
    "    maxval = np.percentile(G_img_, 95)\n",
    "    G_img_ = np.clip(G_img_, minval, maxval)\n",
    "    G_img_ = (G_img_ - minval) / (maxval - minval)\n",
    "    G_img_[G_img_ > 1.0] = 1.0\n",
    "\n",
    "    plt.figure(figsize=(6,6))\n",
    "    plt.imshow(G_img_)"
   ]
  },
  {
   "cell_type": "markdown",
   "metadata": {},
   "source": [
    "### Reconstruct Images"
   ]
  },
  {
   "cell_type": "code",
   "execution_count": null,
   "metadata": {},
   "outputs": [],
   "source": [
    "# Figure 3\n",
    "reconstruct('./experimental/data/captures/138301.npy', psf, snr, G)\n",
    "reconstruct('./experimental/data/captures/102302.npy', psf, snr, G)\n",
    "reconstruct('./experimental/data/captures/110802.npy', psf, snr, G)"
   ]
  }
 ],
 "metadata": {
  "kernelspec": {
   "display_name": "Python 3",
   "language": "python",
   "name": "python3"
  },
  "language_info": {
   "codemirror_mode": {
    "name": "ipython",
    "version": 3
   },
   "file_extension": ".py",
   "mimetype": "text/x-python",
   "name": "python",
   "nbconvert_exporter": "python",
   "pygments_lexer": "ipython3",
   "version": "3.6.10"
  }
 },
 "nbformat": 4,
 "nbformat_minor": 4
}
